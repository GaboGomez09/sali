{
 "cells": [
  {
   "cell_type": "code",
   "execution_count": 110,
   "metadata": {},
   "outputs": [],
   "source": [
    "import pandas as pd\n",
    "import json\n",
    "import math\n",
    "import datetime\n",
    "import matplotlib.pyplot as plt"
   ]
  },
  {
   "cell_type": "code",
   "execution_count": 152,
   "metadata": {
    "collapsed": true
   },
   "outputs": [
    {
     "name": "stderr",
     "output_type": "stream",
     "text": [
      "b'Skipping line 10: expected 2 fields, saw 3\\nSkipping line 11: expected 2 fields, saw 3\\nSkipping line 21: expected 2 fields, saw 3\\nSkipping line 30: expected 2 fields, saw 3\\nSkipping line 35: expected 2 fields, saw 3\\nSkipping line 38: expected 2 fields, saw 3\\nSkipping line 39: expected 2 fields, saw 3\\nSkipping line 68: expected 2 fields, saw 3\\nSkipping line 70: expected 2 fields, saw 3\\nSkipping line 71: expected 2 fields, saw 3\\nSkipping line 76: expected 2 fields, saw 3\\nSkipping line 77: expected 2 fields, saw 3\\nSkipping line 82: expected 2 fields, saw 3\\nSkipping line 104: expected 2 fields, saw 3\\nSkipping line 113: expected 2 fields, saw 3\\nSkipping line 123: expected 2 fields, saw 3\\n'\n"
     ]
    },
    {
     "data": {
      "text/html": [
       "<div>\n",
       "<style scoped>\n",
       "    .dataframe tbody tr th:only-of-type {\n",
       "        vertical-align: middle;\n",
       "    }\n",
       "\n",
       "    .dataframe tbody tr th {\n",
       "        vertical-align: top;\n",
       "    }\n",
       "\n",
       "    .dataframe thead th {\n",
       "        text-align: right;\n",
       "    }\n",
       "</style>\n",
       "<table border=\"1\" class=\"dataframe\">\n",
       "  <thead>\n",
       "    <tr style=\"text-align: right;\">\n",
       "      <th></th>\n",
       "      <th>sender_name</th>\n",
       "      <th>content</th>\n",
       "      <th>delta_mensajes_minutos</th>\n",
       "      <th>delta_mensajes_horas</th>\n",
       "    </tr>\n",
       "    <tr>\n",
       "      <th>date_time</th>\n",
       "      <th></th>\n",
       "      <th></th>\n",
       "      <th></th>\n",
       "      <th></th>\n",
       "    </tr>\n",
       "  </thead>\n",
       "  <tbody>\n",
       "    <tr>\n",
       "      <th>2020-04-17 11:43:00</th>\n",
       "      <td>Ben Cliente</td>\n",
       "      <td>hola</td>\n",
       "      <td>NaN</td>\n",
       "      <td>NaN</td>\n",
       "    </tr>\n",
       "    <tr>\n",
       "      <th>2020-04-17 11:43:00</th>\n",
       "      <td>Ben Cliente</td>\n",
       "      <td>buenos días</td>\n",
       "      <td>0.0</td>\n",
       "      <td>0.0</td>\n",
       "    </tr>\n",
       "    <tr>\n",
       "      <th>2020-04-17 11:43:00</th>\n",
       "      <td>Gabo</td>\n",
       "      <td>hola buenos días</td>\n",
       "      <td>0.0</td>\n",
       "      <td>0.0</td>\n",
       "    </tr>\n",
       "    <tr>\n",
       "      <th>2020-04-17 11:45:00</th>\n",
       "      <td>Ben Cliente</td>\n",
       "      <td>como quieres que hagamos la videollamada?</td>\n",
       "      <td>2.0</td>\n",
       "      <td>0.0</td>\n",
       "    </tr>\n",
       "    <tr>\n",
       "      <th>2020-04-17 11:54:00</th>\n",
       "      <td>Gabo</td>\n",
       "      <td>estas en compu?</td>\n",
       "      <td>9.0</td>\n",
       "      <td>0.0</td>\n",
       "    </tr>\n",
       "    <tr>\n",
       "      <th>...</th>\n",
       "      <td>...</td>\n",
       "      <td>...</td>\n",
       "      <td>...</td>\n",
       "      <td>...</td>\n",
       "    </tr>\n",
       "    <tr>\n",
       "      <th>2020-05-29 21:01:00</th>\n",
       "      <td>Ben Cliente</td>\n",
       "      <td>pero puse 3 carpetas</td>\n",
       "      <td>1.0</td>\n",
       "      <td>0.0</td>\n",
       "    </tr>\n",
       "    <tr>\n",
       "      <th>2020-05-29 22:15:00</th>\n",
       "      <td>Gabo</td>\n",
       "      <td>si quiere podemos tener otra reunión el domingo</td>\n",
       "      <td>74.0</td>\n",
       "      <td>1.0</td>\n",
       "    </tr>\n",
       "    <tr>\n",
       "      <th>2020-05-29 22:15:00</th>\n",
       "      <td>Gabo</td>\n",
       "      <td>a qué hora le queda?</td>\n",
       "      <td>0.0</td>\n",
       "      <td>0.0</td>\n",
       "    </tr>\n",
       "    <tr>\n",
       "      <th>2020-05-29 22:44:00</th>\n",
       "      <td>Ben Cliente</td>\n",
       "      <td>por la mañana</td>\n",
       "      <td>29.0</td>\n",
       "      <td>0.0</td>\n",
       "    </tr>\n",
       "    <tr>\n",
       "      <th>2020-05-29 22:46:00</th>\n",
       "      <td>Gabo</td>\n",
       "      <td>a las 11?</td>\n",
       "      <td>2.0</td>\n",
       "      <td>0.0</td>\n",
       "    </tr>\n",
       "  </tbody>\n",
       "</table>\n",
       "<p>111 rows × 4 columns</p>\n",
       "</div>"
      ],
      "text/plain": [
       "                      sender_name  \\\n",
       "date_time                           \n",
       "2020-04-17 11:43:00   Ben Cliente   \n",
       "2020-04-17 11:43:00   Ben Cliente   \n",
       "2020-04-17 11:43:00          Gabo   \n",
       "2020-04-17 11:45:00   Ben Cliente   \n",
       "2020-04-17 11:54:00          Gabo   \n",
       "...                           ...   \n",
       "2020-05-29 21:01:00   Ben Cliente   \n",
       "2020-05-29 22:15:00          Gabo   \n",
       "2020-05-29 22:15:00          Gabo   \n",
       "2020-05-29 22:44:00   Ben Cliente   \n",
       "2020-05-29 22:46:00          Gabo   \n",
       "\n",
       "                                                              content  \\\n",
       "date_time                                                               \n",
       "2020-04-17 11:43:00                                              hola   \n",
       "2020-04-17 11:43:00                                       buenos días   \n",
       "2020-04-17 11:43:00                                  hola buenos días   \n",
       "2020-04-17 11:45:00         como quieres que hagamos la videollamada?   \n",
       "2020-04-17 11:54:00                                   estas en compu?   \n",
       "...                                                               ...   \n",
       "2020-05-29 21:01:00                              pero puse 3 carpetas   \n",
       "2020-05-29 22:15:00   si quiere podemos tener otra reunión el domingo   \n",
       "2020-05-29 22:15:00                              a qué hora le queda?   \n",
       "2020-05-29 22:44:00                                     por la mañana   \n",
       "2020-05-29 22:46:00                                         a las 11?   \n",
       "\n",
       "                     delta_mensajes_minutos  delta_mensajes_horas  \n",
       "date_time                                                          \n",
       "2020-04-17 11:43:00                     NaN                   NaN  \n",
       "2020-04-17 11:43:00                     0.0                   0.0  \n",
       "2020-04-17 11:43:00                     0.0                   0.0  \n",
       "2020-04-17 11:45:00                     2.0                   0.0  \n",
       "2020-04-17 11:54:00                     9.0                   0.0  \n",
       "...                                     ...                   ...  \n",
       "2020-05-29 21:01:00                     1.0                   0.0  \n",
       "2020-05-29 22:15:00                    74.0                   1.0  \n",
       "2020-05-29 22:15:00                     0.0                   0.0  \n",
       "2020-05-29 22:44:00                    29.0                   0.0  \n",
       "2020-05-29 22:46:00                     2.0                   0.0  \n",
       "\n",
       "[111 rows x 4 columns]"
      ]
     },
     "execution_count": 152,
     "metadata": {},
     "output_type": "execute_result"
    }
   ],
   "source": [
    "filename = 'WhatsApp Chat with Ben Cliente.txt'\n",
    "df = pd.read_csv(filename, header=None, error_bad_lines=False,\n",
    "                 encoding='utf8')\n",
    "df = df.drop(0)\n",
    "df.columns = ['Date', 'Chat']\n",
    "Message = df['Chat'].str.split('-', n=1, expand=True)\n",
    "df['Date'] = df['Date'].str.replace(',', '')\n",
    "df['Time'] = Message[0]\n",
    "df['content'] = Message[1]\n",
    "Message1 = df['content'].str.split(':', n=1, expand=True)\n",
    "df['content'] = Message1[1]\n",
    "df['sender_name'] = Message1[0]\n",
    "df = df.drop(columns=['Chat'])\n",
    "df['content'] = df['content'].str.lower()\n",
    "df['content'] = df['content'].str.replace('<media omitted>', 'MediaShared')\n",
    "df['content'] = df['content'].str.replace('this message was deleted',\n",
    "                                    'DeletedMsg')\n",
    "df.dropna(inplace=True)\n",
    "df[\"date_time\"] = pd.to_datetime(df.Date + df.Time) \n",
    "df = df.reindex(columns=['date_time', 'sender_name', 'content'])\n",
    "df[\"delta_mensajes_minutos\"] = df.date_time.diff()[:].astype('timedelta64[m]')\n",
    "df[\"delta_mensajes_horas\"] = df.date_time.diff()[:].astype('timedelta64[h]')\n",
    "df = df.set_index(\"date_time\")"
   ]
  },
  {
   "cell_type": "code",
   "execution_count": 153,
   "metadata": {},
   "outputs": [],
   "source": [
    "y = df.sender_name.groupby(df.index.hour).count()"
   ]
  },
  {
   "cell_type": "code",
   "execution_count": 195,
   "metadata": {},
   "outputs": [
    {
     "data": {
      "text/plain": [
       "[<matplotlib.lines.Line2D at 0x7fa76d596e10>]"
      ]
     },
     "execution_count": 195,
     "metadata": {},
     "output_type": "execute_result"
    },
    {
     "data": {
      "image/png": "[encoded data removed]",
      "text/plain": [
       "<Figure size 432x288 with 1 Axes>"
      ]
     },
     "metadata": {
      "needs_background": "light"
     },
     "output_type": "display_data"
    }
   ],
   "source": [
    "fig = plt.figure()\n",
    "ax = plt.axes()\n",
    "plt.title(\"Frecuencia de mensajes x hora del día\")\n",
    "plt.xlabel(\"horas\")\n",
    "plt.ylabel(\"cantidad de mensajes\")\n",
    "ax.plot(y.index, y)"
   ]
  },
  {
   "cell_type": "code",
   "execution_count": 156,
   "metadata": {},
   "outputs": [],
   "source": [
    "df[\"is_q\"] = df.apply(lambda x: True if (\"?\" in x[\"content\"] or \"¿\" in x[\"content\"]) else False, axis=1)"
   ]
  },
  {
   "cell_type": "code",
   "execution_count": 184,
   "metadata": {},
   "outputs": [],
   "source": [
    "name_filter = df[\"sender_name\"].str.strip()!='Gabo'"
   ]
  },
  {
   "cell_type": "code",
   "execution_count": 189,
   "metadata": {},
   "outputs": [],
   "source": [
    "questions = df[df.is_q==True]"
   ]
  },
  {
   "cell_type": "code",
   "execution_count": 191,
   "metadata": {},
   "outputs": [],
   "source": [
    "questions = questions[questions[\"sender_name\"].str.strip()!='Gabo']"
   ]
  },
  {
   "cell_type": "code",
   "execution_count": 198,
   "metadata": {},
   "outputs": [
    {
     "data": {
      "text/plain": [
       "array([' como quieres que hagamos la videollamada?', ' skype?',\n",
       "       ' a qué correo te comparto las fotografías?',\n",
       "       ' has visto algo del software?', ' tú qué tal?',\n",
       "       ' ya están bien las fotografías para hacer las pruebas?',\n",
       "       ' te parece a las 8?'], dtype=object)"
      ]
     },
     "execution_count": 198,
     "metadata": {},
     "output_type": "execute_result"
    }
   ],
   "source": [
    "questions.content.values"
   ]
  },
  {
   "cell_type": "code",
   "execution_count": null,
   "metadata": {},
   "outputs": [],
   "source": [
    "import pandas as pd\n",
    "import numpy as np\n",
    "from sklearn.cluster import MiniBatchKMeans\n",
    "from sklearn.feature_extraction.text import TfidfVectorizer\n",
    "from sklearn.decomposition import PCA\n",
    "import matplotlib.pyplot as plt\n",
    "\n"
   ]
  }
 ],
 "metadata": {
  "kernelspec": {
   "display_name": "Python 3",
   "language": "python",
   "name": "python3"
  },
  "language_info": {
   "codemirror_mode": {
    "name": "ipython",
    "version": 3
   },
   "file_extension": ".py",
   "mimetype": "text/x-python",
   "name": "python",
   "nbconvert_exporter": "python",
   "pygments_lexer": "ipython3",
   "version": "3.7.6"
  }
 },
 "nbformat": 4,
 "nbformat_minor": 4
}
