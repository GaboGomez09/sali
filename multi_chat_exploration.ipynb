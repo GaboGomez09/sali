{
 "cells": [
  {
   "cell_type": "code",
   "execution_count": 44,
   "metadata": {},
   "outputs": [],
   "source": [
    "import pandas as pd\n",
    "import json\n",
    "import math\n",
    "import datetime\n",
    "import matplotlib.pyplot as plt\n",
    "from os import listdir\n",
    "dir_chats = \"whatsapp chats/\"\n",
    "chats = listdir(dir_chats)"
   ]
  },
  {
   "cell_type": "code",
   "execution_count": 45,
   "metadata": {},
   "outputs": [],
   "source": [
    "def parse_chat(chat_path):\n",
    "    filename = chat_path\n",
    "    df = pd.read_csv(filename, header=None, error_bad_lines=False,\n",
    "                     encoding='utf8')\n",
    "    df = df.drop(0)\n",
    "    df.columns = ['Date', 'Chat']\n",
    "    Message = df['Chat'].str.split('-', n=1, expand=True)\n",
    "    df['Date'] = df['Date'].str.replace(',', '')\n",
    "    df['Time'] = Message[0]\n",
    "    df['content'] = Message[1]\n",
    "    Message1 = df['content'].str.split(':', n=1, expand=True)\n",
    "    df['content'] = Message1[1]\n",
    "    df['sender_name'] = Message1[0]\n",
    "    df = df.drop(columns=['Chat'])\n",
    "    df['content'] = df['content'].str.lower()\n",
    "    df['content'] = df['content'].str.replace('<media omitted>', 'MediaShared')\n",
    "    df['content'] = df['content'].str.replace('this message was deleted',\n",
    "                                        'DeletedMsg')\n",
    "    df.dropna(inplace=True)\n",
    "    df[\"date_time\"] = pd.to_datetime(df.Date + df.Time) \n",
    "    df = df.reindex(columns=['date_time', 'sender_name', 'content'])\n",
    "    df[\"delta_mensajes_minutos\"] = df.date_time.diff()[:].astype('timedelta64[m]')\n",
    "    df[\"delta_mensajes_horas\"] = df.date_time.diff()[:].astype('timedelta64[h]')\n",
    "    df = df.set_index(\"date_time\")\n",
    "    return df"
   ]
  },
  {
   "cell_type": "code",
   "execution_count": 46,
   "metadata": {
    "collapsed": true
   },
   "outputs": [
    {
     "name": "stderr",
     "output_type": "stream",
     "text": [
      "b'Skipping line 7: expected 2 fields, saw 4\\nSkipping line 11: expected 2 fields, saw 3\\nSkipping line 12: expected 2 fields, saw 3\\n'\n",
      "b'Skipping line 5: expected 2 fields, saw 3\\nSkipping line 61: expected 2 fields, saw 3\\nSkipping line 66: expected 2 fields, saw 3\\nSkipping line 70: expected 2 fields, saw 3\\n'\n",
      "b'Skipping line 5: expected 2 fields, saw 3\\nSkipping line 8: expected 2 fields, saw 3\\nSkipping line 13: expected 2 fields, saw 3\\nSkipping line 14: expected 2 fields, saw 3\\nSkipping line 19: expected 2 fields, saw 3\\nSkipping line 21: expected 2 fields, saw 3\\nSkipping line 28: expected 2 fields, saw 5\\nSkipping line 40: expected 2 fields, saw 3\\nSkipping line 50: expected 2 fields, saw 4\\nSkipping line 57: expected 2 fields, saw 3\\nSkipping line 59: expected 2 fields, saw 3\\n'\n",
      "b'Skipping line 9: expected 2 fields, saw 3\\nSkipping line 15: expected 2 fields, saw 3\\nSkipping line 20: expected 2 fields, saw 3\\nSkipping line 53: expected 2 fields, saw 3\\nSkipping line 57: expected 2 fields, saw 3\\nSkipping line 66: expected 2 fields, saw 3\\nSkipping line 70: expected 2 fields, saw 3\\n'\n",
      "b'Skipping line 15: expected 2 fields, saw 3\\nSkipping line 16: expected 2 fields, saw 3\\nSkipping line 17: expected 2 fields, saw 4\\nSkipping line 26: expected 2 fields, saw 3\\nSkipping line 34: expected 2 fields, saw 3\\nSkipping line 39: expected 2 fields, saw 3\\nSkipping line 66: expected 2 fields, saw 3\\nSkipping line 75: expected 2 fields, saw 3\\nSkipping line 81: expected 2 fields, saw 4\\nSkipping line 82: expected 2 fields, saw 3\\nSkipping line 102: expected 2 fields, saw 3\\nSkipping line 111: expected 2 fields, saw 3\\nSkipping line 120: expected 2 fields, saw 4\\nSkipping line 137: expected 2 fields, saw 3\\nSkipping line 143: expected 2 fields, saw 3\\nSkipping line 147: expected 2 fields, saw 6\\nSkipping line 148: expected 2 fields, saw 3\\nSkipping line 150: expected 2 fields, saw 3\\nSkipping line 159: expected 2 fields, saw 3\\nSkipping line 167: expected 2 fields, saw 3\\n'\n"
     ]
    }
   ],
   "source": [
    "chat_dfs = []\n",
    "for conversation in chats:\n",
    "    sender_name = conversation[21:]\n",
    "    conv = parse_chat(dir_chats + conversation)\n",
    "    chat_dfs.append(conv)"
   ]
  },
  {
   "cell_type": "code",
   "execution_count": 107,
   "metadata": {
    "scrolled": true
   },
   "outputs": [],
   "source": [
    "all_chats = pd.concat(chat_dfs)\n",
    "name_filter = all_chats[\"sender_name\"].str.strip()!='A n e m o n e'\n",
    "client_messages = all_chats[name_filter]"
   ]
  },
  {
   "cell_type": "code",
   "execution_count": 108,
   "metadata": {},
   "outputs": [
    {
     "data": {
      "text/plain": [
       "[<matplotlib.lines.Line2D at 0x7f8c60628390>]"
      ]
     },
     "execution_count": 108,
     "metadata": {},
     "output_type": "execute_result"
    },
    {
     "data": {
      "image/png": "[encoded data removed]",
      "text/plain": [
       "<Figure size 432x288 with 1 Axes>"
      ]
     },
     "metadata": {
      "needs_background": "light"
     },
     "output_type": "display_data"
    }
   ],
   "source": [
    "y = client_messages.sender_name.groupby(client_messages.index.hour).count()\n",
    "fig = plt.figure()\n",
    "ax = plt.axes()\n",
    "plt.title(\"Frecuencia de mensajes x hora del día\")\n",
    "plt.xlabel(\"horas\")\n",
    "plt.ylabel(\"cantidad de mensajes\")\n",
    "ax.plot(y.index, y)"
   ]
  },
  {
   "cell_type": "markdown",
   "metadata": {},
   "source": [
    "# Horarios con más chats"
   ]
  },
  {
   "cell_type": "code",
   "execution_count": 109,
   "metadata": {},
   "outputs": [],
   "source": [
    "horarios = y.sort_values(ascending=False)[:3].index"
   ]
  },
  {
   "cell_type": "code",
   "execution_count": 133,
   "metadata": {},
   "outputs": [],
   "source": [
    "mensaje_horarios = f\"Sus horarios en donde recibe más mensajes son a las {horarios[0]}hrs, las {horarios[1]}hrs y las {horarios[2]}hrs.\""
   ]
  },
  {
   "cell_type": "code",
   "execution_count": 134,
   "metadata": {},
   "outputs": [
    {
     "name": "stdout",
     "output_type": "stream",
     "text": [
      "Sus horarios en donde recibe más mensajes son a las 16hrs, las 18hrs y las 14hrs.\n"
     ]
    }
   ],
   "source": [
    "print(mensaje_horarios)"
   ]
  },
  {
   "cell_type": "markdown",
   "metadata": {},
   "source": [
    "# ¿Quienes son los clientes más activos?"
   ]
  },
  {
   "cell_type": "code",
   "execution_count": 135,
   "metadata": {},
   "outputs": [],
   "source": [
    "client_most_messages = client_messages.groupby(client_messages.sender_name).count().sort_values(\"content\", ascending=False)[:3].index"
   ]
  },
  {
   "cell_type": "code",
   "execution_count": 140,
   "metadata": {},
   "outputs": [],
   "source": [
    "most_active_client_message = f\"Sus top tres clientes más activos son 1.{client_most_messages[0]}, 2.{client_most_messages[1]}, y 3.{client_most_messages[2]}\""
   ]
  },
  {
   "cell_type": "code",
   "execution_count": 142,
   "metadata": {},
   "outputs": [
    {
     "name": "stdout",
     "output_type": "stream",
     "text": [
      "Sus top tres clientes más activos son 1. Patricio Coatza, 2. +52 1 921 151 9490, y 3. Amigo caro\n"
     ]
    }
   ],
   "source": [
    "print(most_active_client_message)"
   ]
  },
  {
   "cell_type": "code",
   "execution_count": null,
   "metadata": {},
   "outputs": [],
   "source": []
  }
 ],
 "metadata": {
  "kernelspec": {
   "display_name": "Python 3",
   "language": "python",
   "name": "python3"
  },
  "language_info": {
   "codemirror_mode": {
    "name": "ipython",
    "version": 3
   },
   "file_extension": ".py",
   "mimetype": "text/x-python",
   "name": "python",
   "nbconvert_exporter": "python",
   "pygments_lexer": "ipython3",
   "version": "3.7.6"
  }
 },
 "nbformat": 4,
 "nbformat_minor": 4
}
