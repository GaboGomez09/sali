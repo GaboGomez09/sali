{
 "cells": [
  {
   "cell_type": "code",
   "execution_count": 45,
   "metadata": {},
   "outputs": [],
   "source": [
    "import pandas as pd\n",
    "import json\n",
    "import math\n",
    "import datetime\n",
    "import matplotlib.pyplot as plt"
   ]
  },
  {
   "cell_type": "code",
   "execution_count": 2,
   "metadata": {},
   "outputs": [],
   "source": [
    "with open('message_1.json') as json_file:\n",
    "    data = json.load(json_file)"
   ]
  },
  {
   "cell_type": "code",
   "execution_count": 3,
   "metadata": {},
   "outputs": [],
   "source": [
    "messages = pd.DataFrame.from_records(data[\"messages\"])"
   ]
  },
  {
   "cell_type": "code",
   "execution_count": 4,
   "metadata": {},
   "outputs": [],
   "source": [
    "messages.fillna(\"vacio\", inplace=True)"
   ]
  },
  {
   "cell_type": "code",
   "execution_count": 5,
   "metadata": {},
   "outputs": [],
   "source": [
    "messages.sender_name = messages.apply(lambda x: x[\"sender_name\"].encode('raw_unicode_escape').decode('utf-8'), axis=1)"
   ]
  },
  {
   "cell_type": "code",
   "execution_count": 6,
   "metadata": {},
   "outputs": [],
   "source": [
    "messages.content = messages.apply(lambda x: x[\"content\"].encode('raw_unicode_escape').decode('utf-8'), axis=1)"
   ]
  },
  {
   "cell_type": "code",
   "execution_count": 7,
   "metadata": {},
   "outputs": [],
   "source": [
    "messages[\"date_time\"] = messages.apply(lambda x: datetime.datetime.fromtimestamp(x[\"timestamp_ms\"]/1000.0), axis=1)"
   ]
  },
  {
   "cell_type": "code",
   "execution_count": 8,
   "metadata": {},
   "outputs": [],
   "source": [
    "messages = messages.reindex(columns=[\"sender_name\", \"content\", \"date_time\"])"
   ]
  },
  {
   "cell_type": "code",
   "execution_count": 9,
   "metadata": {},
   "outputs": [],
   "source": [
    "messages.sort_values(by='date_time', inplace=True)"
   ]
  },
  {
   "cell_type": "code",
   "execution_count": 10,
   "metadata": {},
   "outputs": [],
   "source": [
    "messages[\"delta_mensajes_segundos\"] = messages.date_time.diff()[:].astype('timedelta64[s]')\n",
    "messages[\"delta_mensajes_horas\"] = messages.date_time.diff()[:].astype('timedelta64[h]')"
   ]
  },
  {
   "cell_type": "code",
   "execution_count": 15,
   "metadata": {},
   "outputs": [],
   "source": [
    "messages = messages.set_index(\"date_time\")"
   ]
  },
  {
   "cell_type": "code",
   "execution_count": 12,
   "metadata": {},
   "outputs": [],
   "source": [
    "messages.reset_index(drop=True, inplace=True)"
   ]
  },
  {
   "cell_type": "code",
   "execution_count": 17,
   "metadata": {},
   "outputs": [
    {
     "data": {
      "text/html": [
       "<div>\n",
       "<style scoped>\n",
       "    .dataframe tbody tr th:only-of-type {\n",
       "        vertical-align: middle;\n",
       "    }\n",
       "\n",
       "    .dataframe tbody tr th {\n",
       "        vertical-align: top;\n",
       "    }\n",
       "\n",
       "    .dataframe thead th {\n",
       "        text-align: right;\n",
       "    }\n",
       "</style>\n",
       "<table border=\"1\" class=\"dataframe\">\n",
       "  <thead>\n",
       "    <tr style=\"text-align: right;\">\n",
       "      <th></th>\n",
       "      <th>sender_name</th>\n",
       "      <th>content</th>\n",
       "      <th>delta_mensajes_segundos</th>\n",
       "      <th>delta_mensajes_horas</th>\n",
       "    </tr>\n",
       "    <tr>\n",
       "      <th>date_time</th>\n",
       "      <th></th>\n",
       "      <th></th>\n",
       "      <th></th>\n",
       "      <th></th>\n",
       "    </tr>\n",
       "  </thead>\n",
       "  <tbody>\n",
       "    <tr>\n",
       "      <th>2016-08-29 15:49:06.176</th>\n",
       "      <td>Gabriel Gómez</td>\n",
       "      <td>Que onda! Tù eres el chavo del club de desarro...</td>\n",
       "      <td>NaN</td>\n",
       "      <td>NaN</td>\n",
       "    </tr>\n",
       "    <tr>\n",
       "      <th>2016-08-29 15:49:33.302</th>\n",
       "      <td>Alejandro Mar</td>\n",
       "      <td>Hola, sí, qué hay :)</td>\n",
       "      <td>27.0</td>\n",
       "      <td>0.0</td>\n",
       "    </tr>\n",
       "    <tr>\n",
       "      <th>2016-08-29 15:49:57.401</th>\n",
       "      <td>Gabriel Gómez</td>\n",
       "      <td>qué días son los talleres de android? XD</td>\n",
       "      <td>24.0</td>\n",
       "      <td>0.0</td>\n",
       "    </tr>\n",
       "    <tr>\n",
       "      <th>2016-08-29 15:50:50.605</th>\n",
       "      <td>Alejandro Mar</td>\n",
       "      <td>Aún no tenemos fecha, seguimos a la espera de ...</td>\n",
       "      <td>53.0</td>\n",
       "      <td>0.0</td>\n",
       "    </tr>\n",
       "    <tr>\n",
       "      <th>2016-08-29 15:51:03.518</th>\n",
       "      <td>Alejandro Mar</td>\n",
       "      <td>Tentativo es martes, miércoles y jueves</td>\n",
       "      <td>12.0</td>\n",
       "      <td>0.0</td>\n",
       "    </tr>\n",
       "    <tr>\n",
       "      <th>...</th>\n",
       "      <td>...</td>\n",
       "      <td>...</td>\n",
       "      <td>...</td>\n",
       "      <td>...</td>\n",
       "    </tr>\n",
       "    <tr>\n",
       "      <th>2020-02-28 16:29:46.138</th>\n",
       "      <td>Alejandro Mar</td>\n",
       "      <td>Gracias Bro 🙌</td>\n",
       "      <td>31.0</td>\n",
       "      <td>0.0</td>\n",
       "    </tr>\n",
       "    <tr>\n",
       "      <th>2020-02-28 16:35:08.680</th>\n",
       "      <td>Gabriel Gómez</td>\n",
       "      <td>La de solutions architect associate</td>\n",
       "      <td>322.0</td>\n",
       "      <td>0.0</td>\n",
       "    </tr>\n",
       "    <tr>\n",
       "      <th>2020-02-28 19:36:55.748</th>\n",
       "      <td>Alejandro Mar</td>\n",
       "      <td>Éxito amigo 🤩</td>\n",
       "      <td>10907.0</td>\n",
       "      <td>3.0</td>\n",
       "    </tr>\n",
       "    <tr>\n",
       "      <th>2020-02-28 19:37:07.798</th>\n",
       "      <td>Alejandro Mar</td>\n",
       "      <td>Te preparaste o así con tu experiencia la vas ...</td>\n",
       "      <td>12.0</td>\n",
       "      <td>0.0</td>\n",
       "    </tr>\n",
       "    <tr>\n",
       "      <th>2020-02-28 19:37:41.065</th>\n",
       "      <td>Gabriel Gómez</td>\n",
       "      <td>Un poco de las dos</td>\n",
       "      <td>33.0</td>\n",
       "      <td>0.0</td>\n",
       "    </tr>\n",
       "  </tbody>\n",
       "</table>\n",
       "<p>2039 rows × 4 columns</p>\n",
       "</div>"
      ],
      "text/plain": [
       "                           sender_name  \\\n",
       "date_time                                \n",
       "2016-08-29 15:49:06.176  Gabriel Gómez   \n",
       "2016-08-29 15:49:33.302  Alejandro Mar   \n",
       "2016-08-29 15:49:57.401  Gabriel Gómez   \n",
       "2016-08-29 15:50:50.605  Alejandro Mar   \n",
       "2016-08-29 15:51:03.518  Alejandro Mar   \n",
       "...                                ...   \n",
       "2020-02-28 16:29:46.138  Alejandro Mar   \n",
       "2020-02-28 16:35:08.680  Gabriel Gómez   \n",
       "2020-02-28 19:36:55.748  Alejandro Mar   \n",
       "2020-02-28 19:37:07.798  Alejandro Mar   \n",
       "2020-02-28 19:37:41.065  Gabriel Gómez   \n",
       "\n",
       "                                                                   content  \\\n",
       "date_time                                                                    \n",
       "2016-08-29 15:49:06.176  Que onda! Tù eres el chavo del club de desarro...   \n",
       "2016-08-29 15:49:33.302                               Hola, sí, qué hay :)   \n",
       "2016-08-29 15:49:57.401           qué días son los talleres de android? XD   \n",
       "2016-08-29 15:50:50.605  Aún no tenemos fecha, seguimos a la espera de ...   \n",
       "2016-08-29 15:51:03.518            Tentativo es martes, miércoles y jueves   \n",
       "...                                                                    ...   \n",
       "2020-02-28 16:29:46.138                                      Gracias Bro 🙌   \n",
       "2020-02-28 16:35:08.680                La de solutions architect associate   \n",
       "2020-02-28 19:36:55.748                                      Éxito amigo 🤩   \n",
       "2020-02-28 19:37:07.798  Te preparaste o así con tu experiencia la vas ...   \n",
       "2020-02-28 19:37:41.065                                 Un poco de las dos   \n",
       "\n",
       "                         delta_mensajes_segundos  delta_mensajes_horas  \n",
       "date_time                                                               \n",
       "2016-08-29 15:49:06.176                      NaN                   NaN  \n",
       "2016-08-29 15:49:33.302                     27.0                   0.0  \n",
       "2016-08-29 15:49:57.401                     24.0                   0.0  \n",
       "2016-08-29 15:50:50.605                     53.0                   0.0  \n",
       "2016-08-29 15:51:03.518                     12.0                   0.0  \n",
       "...                                          ...                   ...  \n",
       "2020-02-28 16:29:46.138                     31.0                   0.0  \n",
       "2020-02-28 16:35:08.680                    322.0                   0.0  \n",
       "2020-02-28 19:36:55.748                  10907.0                   3.0  \n",
       "2020-02-28 19:37:07.798                     12.0                   0.0  \n",
       "2020-02-28 19:37:41.065                     33.0                   0.0  \n",
       "\n",
       "[2039 rows x 4 columns]"
      ]
     },
     "execution_count": 17,
     "metadata": {},
     "output_type": "execute_result"
    }
   ],
   "source": [
    "messages"
   ]
  },
  {
   "cell_type": "code",
   "execution_count": 23,
   "metadata": {},
   "outputs": [],
   "source": [
    "y = messages.sender_name.groupby(messages.index.hour).count()"
   ]
  },
  {
   "cell_type": "code",
   "execution_count": 44,
   "metadata": {},
   "outputs": [
    {
     "data": {
      "image/png": "[encoded data removed]",
      "text/plain": [
       "<Figure size 432x288 with 1 Axes>"
      ]
     },
     "metadata": {
      "needs_background": "light"
     },
     "output_type": "display_data"
    }
   ],
   "source": [
    "fig = plt.figure()\n",
    "ax = plt.axes()\n",
    "plt.title(\"Frecuencia de mensajes x hora del día\")\n",
    "plt.xlabel(\"horas\")\n",
    "plt.ylabel(\"cantidad de mensajes\")\n",
    "ax.plot(y.index, y);"
   ]
  },
  {
   "cell_type": "code",
   "execution_count": 46,
   "metadata": {},
   "outputs": [
    {
     "name": "stdout",
     "output_type": "stream",
     "text": [
      " analyze.py\t       mensaje.txt      notes.txt\r\n",
      " data_cleaning.ipynb   message_1.json  'WhatsApp Chat with Ben Cliente.txt'\r\n"
     ]
    }
   ],
   "source": [
    "!ls"
   ]
  },
  {
   "cell_type": "code",
   "execution_count": 59,
   "metadata": {},
   "outputs": [],
   "source": [
    "file_name = 'WhatsApp Chat with Ben Cliente.txt'\n",
    "f = open(file_name, \"r\")"
   ]
  },
  {
   "cell_type": "markdown",
   "metadata": {},
   "source": [
    "lines = []\n",
    "for x in f:\n",
    "    print(x.split(\"-\"))\n",
    "    # print(date_time, mensaje)\n",
    "    # lines.append((date_time, mensaje))"
   ]
  },
  {
   "cell_type": "code",
   "execution_count": 91,
   "metadata": {},
   "outputs": [],
   "source": [
    "import re\n",
    "\n",
    "def parse_file(text_file):\n",
    "    '''Convert WhatsApp chat log text file to a Pandas dataframe.'''\n",
    "    \n",
    "    # some regex to account for messages taking up multiple lines\n",
    "    pat = re.compile(r'^(\\d\\d\\/\\d\\d\\/\\d\\d\\d\\d.*?)(?=^^\\d\\d\\/\\d\\d\\/\\d\\d\\d\\d|\\Z)', re.S | re.M)\n",
    "    with open(text_file) as f:\n",
    "        data = [m for m in f]\n",
    "\n",
    "    sender = []; message = []; datetime = []\n",
    "    for row in data:\n",
    "        # timestamp is before the first dash\n",
    "        dt = row.split(' - ')[0]\n",
    "        datetime.append(dt)\n",
    "\n",
    "        # sender is between am/pm, dash and colon\n",
    "        try:\n",
    "            s = re.search('m - (.*?):', row).group(1)\n",
    "            print(\"sender: \", s)\n",
    "            sender.append(s)\n",
    "        except:\n",
    "            sender.append('')\n",
    "\n",
    "        # message content is after the first colon\n",
    "        try:\n",
    "            message.append(row.split(': ', 1)[1])\n",
    "        except:\n",
    "            message.append('')\n",
    "\n",
    "    df = pd.DataFrame(zip(datetime, sender, message), columns=['timestamp', 'sender', 'message'])\n",
    "    # df['timestamp'] = pd.to_datetime(df.timestamp, format='%m/%d/%Y, %I:%M %p')\n",
    "\n",
    "    # remove events not associated with a sender\n",
    "    df = df[df.sender != ''].reset_index(drop=True)\n",
    "    \n",
    "    return df"
   ]
  },
  {
   "cell_type": "code",
   "execution_count": 92,
   "metadata": {},
   "outputs": [],
   "source": [
    "df = parse_file(file_name)"
   ]
  },
  {
   "cell_type": "code",
   "execution_count": 93,
   "metadata": {},
   "outputs": [
    {
     "data": {
      "text/html": [
       "<div>\n",
       "<style scoped>\n",
       "    .dataframe tbody tr th:only-of-type {\n",
       "        vertical-align: middle;\n",
       "    }\n",
       "\n",
       "    .dataframe tbody tr th {\n",
       "        vertical-align: top;\n",
       "    }\n",
       "\n",
       "    .dataframe thead th {\n",
       "        text-align: right;\n",
       "    }\n",
       "</style>\n",
       "<table border=\"1\" class=\"dataframe\">\n",
       "  <thead>\n",
       "    <tr style=\"text-align: right;\">\n",
       "      <th></th>\n",
       "      <th>timestamp</th>\n",
       "      <th>sender</th>\n",
       "      <th>message</th>\n",
       "    </tr>\n",
       "  </thead>\n",
       "  <tbody>\n",
       "  </tbody>\n",
       "</table>\n",
       "</div>"
      ],
      "text/plain": [
       "Empty DataFrame\n",
       "Columns: [timestamp, sender, message]\n",
       "Index: []"
      ]
     },
     "execution_count": 93,
     "metadata": {},
     "output_type": "execute_result"
    }
   ],
   "source": [
    "df"
   ]
  },
  {
   "cell_type": "code",
   "execution_count": null,
   "metadata": {},
   "outputs": [],
   "source": []
  }
 ],
 "metadata": {
  "kernelspec": {
   "display_name": "Python 3",
   "language": "python",
   "name": "python3"
  },
  "language_info": {
   "codemirror_mode": {
    "name": "ipython",
    "version": 3
   },
   "file_extension": ".py",
   "mimetype": "text/x-python",
   "name": "python",
   "nbconvert_exporter": "python",
   "pygments_lexer": "ipython3",
   "version": "3.7.6"
  }
 },
 "nbformat": 4,
 "nbformat_minor": 4
}
